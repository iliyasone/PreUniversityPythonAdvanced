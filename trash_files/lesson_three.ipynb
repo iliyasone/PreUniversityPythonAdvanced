{
 "cells": [
  {
   "cell_type": "code",
   "execution_count": 1,
   "metadata": {},
   "outputs": [],
   "source": [
    "import time\n",
    "\n",
    "def measure_time(func):\n",
    "    def wrapper(*args, **kwargs):\n",
    "        start_time = time.time()\n",
    "        result = func(*args, **kwargs)\n",
    "        end_time = time.time()\n",
    "        execution_time = end_time - start_time\n",
    "        print(f\"Function '{func.__name__}' executed in {execution_time:.6f} seconds.\")\n",
    "        return result\n",
    "    return wrapper\n"
   ]
  },
  {
   "cell_type": "code",
   "execution_count": 2,
   "metadata": {},
   "outputs": [],
   "source": [
    "@measure_time\n",
    "def hi():\n",
    "    a = 0\n",
    "    for _ in range(13*17*131):\n",
    "        a = ((a+3)*71) % 100\n",
    "    return a\n"
   ]
  },
  {
   "cell_type": "code",
   "execution_count": 3,
   "metadata": {},
   "outputs": [
    {
     "data": {
      "text/plain": [
       "'https://cdn2.thecatapi.com/images/ba6.jpg'"
      ]
     },
     "execution_count": 3,
     "metadata": {},
     "output_type": "execute_result"
    }
   ],
   "source": [
    "answer = [\n",
    "  {\n",
    "    \"id\": \"ba6\",\n",
    "    \"url\": \"https://cdn2.thecatapi.com/images/ba6.jpg\",\n",
    "    \"width\": 500,\n",
    "    \"height\": 331\n",
    "  }\n",
    "]\n",
    "\n",
    "\n",
    "answer[0][\"url\"]"
   ]
  },
  {
   "cell_type": "code",
   "execution_count": 4,
   "metadata": {},
   "outputs": [],
   "source": [
    "from __future__ import annotations\n",
    "def func(a: list[str], b: dict[hsgdsgsd]):\n",
    "    ..."
   ]
  },
  {
   "cell_type": "code",
   "execution_count": 5,
   "metadata": {},
   "outputs": [
    {
     "ename": "TypeError",
     "evalue": "can only concatenate str (not \"int\") to str",
     "output_type": "error",
     "traceback": [
      "\u001b[1;31m---------------------------------------------------------------------------\u001b[0m",
      "\u001b[1;31mTypeError\u001b[0m                                 Traceback (most recent call last)",
      "Cell \u001b[1;32mIn[5], line 3\u001b[0m\n\u001b[0;32m      1\u001b[0m \u001b[39mwith\u001b[39;00m \u001b[39mopen\u001b[39m(\u001b[39m\"\u001b[39m\u001b[39mhello.txt\u001b[39m\u001b[39m\"\u001b[39m, \u001b[39m\"\u001b[39m\u001b[39mw\u001b[39m\u001b[39m\"\u001b[39m) \u001b[39mas\u001b[39;00m file:\n\u001b[0;32m      2\u001b[0m     file\u001b[39m.\u001b[39mwrite(\u001b[39m\"\u001b[39m\u001b[39mnoraml\u001b[39m\u001b[39m\"\u001b[39m)\n\u001b[1;32m----> 3\u001b[0m     file\u001b[39m.\u001b[39mwrite(\u001b[39m\"\u001b[39;49m\u001b[39mHello\u001b[39;49m\u001b[39m\"\u001b[39;49m \u001b[39m+\u001b[39;49m \u001b[39m1\u001b[39;49m)\n",
      "\u001b[1;31mTypeError\u001b[0m: can only concatenate str (not \"int\") to str"
     ]
    }
   ],
   "source": [
    "with open(\"hello.txt\", \"w\") as file:\n",
    "    file.write(\"noraml\")\n",
    "    file.write(\"Hello\" + 1)"
   ]
  },
  {
   "cell_type": "code",
   "execution_count": null,
   "metadata": {},
   "outputs": [],
   "source": [
    "class Human:\n",
    "    genom_count = 46"
   ]
  },
  {
   "cell_type": "code",
   "execution_count": null,
   "metadata": {},
   "outputs": [],
   "source": [
    "a = Human()\n",
    "a.genom_count = 47"
   ]
  },
  {
   "cell_type": "code",
   "execution_count": null,
   "metadata": {},
   "outputs": [],
   "source": [
    "a.genom_count"
   ]
  },
  {
   "cell_type": "code",
   "execution_count": null,
   "metadata": {},
   "outputs": [],
   "source": [
    "o = Human()"
   ]
  },
  {
   "cell_type": "code",
   "execution_count": null,
   "metadata": {},
   "outputs": [],
   "source": [
    "o.name = \"Ilias\""
   ]
  },
  {
   "cell_type": "code",
   "execution_count": null,
   "metadata": {},
   "outputs": [],
   "source": [
    "a = map(int, input().split())"
   ]
  },
  {
   "cell_type": "code",
   "execution_count": null,
   "metadata": {},
   "outputs": [],
   "source": [
    "for i, v in enumerate(list(a)):\n",
    "    if i % 2 == 0:\n",
    "        print(v, end=' ')"
   ]
  },
  {
   "attachments": {},
   "cell_type": "markdown",
   "metadata": {},
   "source": [
    "1. Работает ли student.bio() ?\n",
    "2. Работает ли Student.count ?"
   ]
  },
  {
   "cell_type": "code",
   "execution_count": null,
   "metadata": {},
   "outputs": [],
   "source": [
    "from typing import Iterable\n",
    "\n",
    "\n",
    "class Ingredient:\n",
    "    country = \"Russia\" \n",
    "    \n",
    "    def __init__(self, weigth: float, callorage: int) -> None:\n",
    "        self._weigth = weigth\n",
    "        self._callorage = callorage\n",
    "\n",
    "    def get_weigth(self) -> float:\n",
    "        return self._weigth\n",
    "    \n",
    "    def get_callorage(self) -> int:\n",
    "        return self._callorage\n",
    "    \n",
    "    def prepare(self) -> None:\n",
    "        \"\"\"Готовит продукт к еде\"\"\"\n",
    "        pass\n",
    "    \n",
    "class Bread(Ingredient):        \n",
    "    def prepare(self):\n",
    "        print(\"Bread servered\")\n",
    "    \n",
    "class Tomato(Ingredient):\n",
    "    def prepare(self):\n",
    "        print(\"Tomato fried\")\n",
    "        self._weigth *= 0.8\n",
    "        self._callorage *= 1.1\n",
    "\n",
    "class Potato(Ingredient):\n",
    "    def prepare(self):\n",
    "        print(\"Potato salted\")\n",
    "        self._weigth += 0.01\n",
    "        self._callorage\n"
   ]
  },
  {
   "cell_type": "code",
   "execution_count": null,
   "metadata": {},
   "outputs": [],
   "source": [
    "tomato = Tomato(1, 1)"
   ]
  },
  {
   "cell_type": "code",
   "execution_count": null,
   "metadata": {},
   "outputs": [],
   "source": [
    "Tomato.__dict__ "
   ]
  },
  {
   "cell_type": "code",
   "execution_count": null,
   "metadata": {},
   "outputs": [],
   "source": [
    "Ingredient.country = \"Belarus\""
   ]
  },
  {
   "cell_type": "code",
   "execution_count": null,
   "metadata": {},
   "outputs": [],
   "source": [
    "potato, tomato, bread = Potato(0.3, 500), Tomato(0.4, 200), Bread(0.1,10)"
   ]
  },
  {
   "cell_type": "code",
   "execution_count": null,
   "metadata": {},
   "outputs": [],
   "source": [
    "potato.__class__ = Tomato"
   ]
  },
  {
   "cell_type": "code",
   "execution_count": null,
   "metadata": {},
   "outputs": [],
   "source": [
    "from math import pi\n",
    "pi"
   ]
  },
  {
   "cell_type": "code",
   "execution_count": null,
   "metadata": {},
   "outputs": [],
   "source": [
    "a = Rectangle(1, 2)\n",
    "print(a.area()) # 2\n",
    "print(a.perimeter()) # 5\n",
    "b = Square(3)\n",
    "print(b.square()) # 9\n",
    "print(b.perimeter()) # 12"
   ]
  },
  {
   "cell_type": "code",
   "execution_count": null,
   "metadata": {},
   "outputs": [],
   "source": [
    "answer = [\n",
    "  {\n",
    "    \"id\": \"2pe\",\n",
    "    \"url\": \"https://cdn2.thecatapi.com/images/2pe.gif\",\n",
    "    \"width\": 150,\n",
    "    \"height\": 112\n",
    "  },\n",
    "  {\n",
    "    \"id\": \"5kj\",\n",
    "    \"url\": \"https://cdn2.thecatapi.com/images/5kj.jpg\",\n",
    "    \"width\": 394,\n",
    "    \"height\": 324\n",
    "  },\n",
    "  {\n",
    "    \"id\": \"63n\",\n",
    "    \"url\": \"https://cdn2.thecatapi.com/images/63n.jpg\",\n",
    "    \"width\": 1280,\n",
    "    \"height\": 765\n",
    "  },\n",
    "  {\n",
    "    \"id\": \"9t3\",\n",
    "    \"url\": \"https://cdn2.thecatapi.com/images/9t3.jpg\",\n",
    "    \"width\": 900,\n",
    "    \"height\": 613\n",
    "  },\n",
    "  {\n",
    "    \"id\": \"akt\",\n",
    "    \"url\": \"https://cdn2.thecatapi.com/images/akt.jpg\",\n",
    "    \"width\": 1000,\n",
    "    \"height\": 677\n",
    "  },\n",
    "  {\n",
    "    \"id\": \"aqv\",\n",
    "    \"url\": \"https://cdn2.thecatapi.com/images/aqv.jpg\",\n",
    "    \"width\": 500,\n",
    "    \"height\": 335\n",
    "  },\n",
    "  {\n",
    "    \"id\": \"cg6\",\n",
    "    \"url\": \"https://cdn2.thecatapi.com/images/cg6.jpg\",\n",
    "    \"width\": 800,\n",
    "    \"height\": 600\n",
    "  },\n",
    "  {\n",
    "    \"id\": \"MTU3ODY4MA\",\n",
    "    \"url\": \"https://cdn2.thecatapi.com/images/MTU3ODY4MA.jpg\",\n",
    "    \"width\": 612,\n",
    "    \"height\": 612\n",
    "  },\n",
    "  {\n",
    "    \"id\": \"mpcBi2Utm\",\n",
    "    \"url\": \"https://cdn2.thecatapi.com/images/mpcBi2Utm.jpg\",\n",
    "    \"width\": 1108,\n",
    "    \"height\": 734\n",
    "  },\n",
    "  {\n",
    "    \"id\": \"N5RX2nuGB\",\n",
    "    \"url\": \"https://cdn2.thecatapi.com/images/N5RX2nuGB.jpg\",\n",
    "    \"width\": 1280,\n",
    "    \"height\": 720\n",
    "  }\n",
    "]"
   ]
  },
  {
   "cell_type": "code",
   "execution_count": null,
   "metadata": {},
   "outputs": [],
   "source": [
    "del example"
   ]
  },
  {
   "cell_type": "code",
   "execution_count": null,
   "metadata": {},
   "outputs": [],
   "source": [
    "a = [1, 2, 3]"
   ]
  },
  {
   "cell_type": "code",
   "execution_count": null,
   "metadata": {},
   "outputs": [],
   "source": [
    "b = list(a)"
   ]
  },
  {
   "cell_type": "code",
   "execution_count": null,
   "metadata": {},
   "outputs": [],
   "source": [
    "a is b"
   ]
  },
  {
   "cell_type": "code",
   "execution_count": 6,
   "metadata": {},
   "outputs": [],
   "source": [
    "def function_father(n: int) -> function:\n",
    "    if n > 0:\n",
    "        def super_function():\n",
    "            print(\"Hello world\")\n",
    "    if n == 0:\n",
    "        def super_function():\n",
    "            print(\"YOU GOT ZERO POINT\")\n",
    "    if n < 0:\n",
    "        def super_function():\n",
    "            print(\"POSITIVE\")\n",
    "    return super_function"
   ]
  },
  {
   "cell_type": "code",
   "execution_count": 6,
   "metadata": {},
   "outputs": [],
   "source": [
    "from __future__ import annotations\n",
    "\n",
    "def decorator_father(*, shoud_print: bool):\n",
    "    def decorator(func: function):    \n",
    "        def wrapper(*args, **kwargs):\n",
    "            if shoud_print:\n",
    "                print(f\"{func.__name__} was called {wrapper.count+1} times!\")\n",
    "            wrapper.count += 1\n",
    "            return func(*args, **kwargs)\n",
    "        \n",
    "        wrapper.count = 0\n",
    "        \n",
    "        return wrapper\n",
    "    return decorator"
   ]
  },
  {
   "cell_type": "code",
   "execution_count": 9,
   "metadata": {},
   "outputs": [],
   "source": [
    "@decorator_father()\n",
    "def sum_of_two(a, b, c):\n",
    "    return a + b + c"
   ]
  },
  {
   "cell_type": "code",
   "execution_count": null,
   "metadata": {},
   "outputs": [],
   "source": []
  },
  {
   "cell_type": "code",
   "execution_count": 10,
   "metadata": {},
   "outputs": [
    {
     "data": {
      "text/plain": [
       "8"
      ]
     },
     "execution_count": 10,
     "metadata": {},
     "output_type": "execute_result"
    }
   ],
   "source": [
    "sum_of_two(3, 2, 3)"
   ]
  },
  {
   "cell_type": "code",
   "execution_count": 60,
   "metadata": {},
   "outputs": [],
   "source": [
    "def what_is_args_and_what_is_kwargs(*args, **kwargs):\n",
    "    print(f'{args=}')\n",
    "    print(f'{kwargs=}')"
   ]
  },
  {
   "cell_type": "code",
   "execution_count": 61,
   "metadata": {},
   "outputs": [
    {
     "name": "stdout",
     "output_type": "stream",
     "text": [
      "args=(1, 2, 3, 4, 5)\n",
      "kwargs={'today': 'BEATUFUL DAY'}\n"
     ]
    }
   ],
   "source": [
    "what_is_args_and_what_is_kwargs(1,2,3,4,5, today=\"BEATUFUL DAY\")"
   ]
  },
  {
   "cell_type": "code",
   "execution_count": 1,
   "metadata": {},
   "outputs": [],
   "source": [
    "def s(x, y): return x + y"
   ]
  },
  {
   "cell_type": "code",
   "execution_count": 4,
   "metadata": {},
   "outputs": [],
   "source": [
    "s = lambda x, y: x + y"
   ]
  },
  {
   "cell_type": "code",
   "execution_count": 8,
   "metadata": {},
   "outputs": [],
   "source": [
    "import openai\n",
    "\n",
    "from env import GPT_TOKEN\n",
    "openai.api_key = GPT_TOKEN\n",
    "\n",
    "response = openai.ChatCompletion.create(\n",
    "  model=\"gpt-3.5-turbo\",\n",
    "  messages=[\n",
    "        {\"role\": \"system\", \"content\": \"You are a helpful assistant.\"},\n",
    "        {\"role\": \"user\", \"content\": \"Who won the world series in 2020?\"},\n",
    "    ]\n",
    ")\n"
   ]
  },
  {
   "cell_type": "code",
   "execution_count": 17,
   "metadata": {},
   "outputs": [],
   "source": [
    "text = '13252'"
   ]
  },
  {
   "cell_type": "code",
   "execution_count": 19,
   "metadata": {},
   "outputs": [],
   "source": [
    "a = set()"
   ]
  },
  {
   "cell_type": "code",
   "execution_count": 25,
   "metadata": {},
   "outputs": [
    {
     "data": {
      "text/plain": [
       "{1, 2, 3}"
      ]
     },
     "execution_count": 25,
     "metadata": {},
     "output_type": "execute_result"
    }
   ],
   "source": [
    "a\n"
   ]
  }
 ],
 "metadata": {
  "kernelspec": {
   "display_name": "Python 3",
   "language": "python",
   "name": "python3"
  },
  "language_info": {
   "codemirror_mode": {
    "name": "ipython",
    "version": 3
   },
   "file_extension": ".py",
   "mimetype": "text/x-python",
   "name": "python",
   "nbconvert_exporter": "python",
   "pygments_lexer": "ipython3",
   "version": "3.10.8"
  },
  "orig_nbformat": 4
 },
 "nbformat": 4,
 "nbformat_minor": 2
}
