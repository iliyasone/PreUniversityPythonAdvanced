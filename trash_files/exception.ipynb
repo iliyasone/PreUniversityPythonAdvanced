{
 "cells": [
  {
   "cell_type": "code",
   "execution_count": 13,
   "metadata": {},
   "outputs": [],
   "source": []
  },
  {
   "cell_type": "code",
   "execution_count": 12,
   "metadata": {},
   "outputs": [
    {
     "name": "stdout",
     "output_type": "stream",
     "text": [
      "Отловил ошибку Нет ответа от сервера\n"
     ]
    }
   ],
   "source": [
    "try:\n",
    "    for i in range(2):\n",
    "        for j in range(4):\n",
    "            for d in range(5):\n",
    "                some_request_func(0)\n",
    "except ConnectionError as er:\n",
    "    print(f'Отловил ошибку: {er}')"
   ]
  },
  {
   "cell_type": "code",
   "execution_count": 19,
   "metadata": {},
   "outputs": [
    {
     "name": "stdout",
     "output_type": "stream",
     "text": [
      "Hello world\n",
      "NOOOO\n"
     ]
    }
   ],
   "source": [
    "exec(\"\"\"print(\"Hello world\")\n",
    "def fuck_me():\n",
    "    print(\"NOOOO\")\n",
    "        \n",
    "fuck_me()\"\"\")"
   ]
  }
 ],
 "metadata": {
  "kernelspec": {
   "display_name": "Python 3",
   "language": "python",
   "name": "python3"
  },
  "language_info": {
   "codemirror_mode": {
    "name": "ipython",
    "version": 3
   },
   "file_extension": ".py",
   "mimetype": "text/x-python",
   "name": "python",
   "nbconvert_exporter": "python",
   "pygments_lexer": "ipython3",
   "version": "3.10.8"
  },
  "orig_nbformat": 4
 },
 "nbformat": 4,
 "nbformat_minor": 2
}
